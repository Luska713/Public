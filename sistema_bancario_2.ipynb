{
 "cells": [
  {
   "cell_type": "markdown",
   "id": "5d76ed25-c800-442c-a381-fe4676b81ee6",
   "metadata": {},
   "source": [
    "# Criando um sistema bancário\n",
    "\n",
    "<p><i><b>Desafio:</b> Melhorar o sistema bancário separando as opções de depósito, saque e extrato em funções e adicionando duas novas funções: Cadastrar usuário e Cadastrar conta bancária.</i></p>\n",
    "\n",
    "## Cadastrar Usuário (Criar usuário)\n",
    "Os usuários devem ser armazenados em uma lista.<br>\n",
    "Um usuário é composto por: nome, data de nascimento, CPF e endereço.<br>\n",
    "O endereço é uma string no formato: logradouro, nro - bairro - cidade/sigla_estado.<br>\n",
    "Deve ser armazenado somente os números do CPF.<br>\n",
    "Não deve ser possível cadastrar 2 usuários com o mesmo CPF.<br>\n",
    "\n",
    "## Cadastrar conta bancária (Criar conta) - Vinculada ao usuário\n",
    "Deve armazenar contas em uma lista.<br>\n",
    "Uma conta deve ser composta por: agência, número da conta e usuário.<br>\n",
    "O número da conta é sequencial, começando em 1. O número da agência é sempre \"0001\".<br>\n",
    "um usuário pode ter mais de uma conta, mas uma conta somente pode pertencer a um usuário.<br>\n",
    "\n",
    "## Depósito:\n",
    "Não deve ser possível inserir valores negativos para depósito. <br>\n",
    "Todos os depósitos devem ser armazenados em uma variável e exibidos na opção extrato. <br>\n",
    "Deve receber os argumentos apenas por posição (positional only).<br>\n",
    "<b>Sugestão de argumentos:</b> saldo, valor, extrato. <b>Sugestão de retorno:</b> saldo e extrato.<br>\n",
    "\n",
    "## Saque:\n",
    "Deve permtir 3 saques por dia, com limite máximo de R$ 500,00 por saque. <br>\n",
    "Caso não haja saldo e conta, exibir mensagem informando saldo insuficiente. <br>\n",
    "Todos os saques devem ser armazenados em uma variável e exibidos na opção extrato. <br>\n",
    "Deve receber os argumentos apenas por nome (keyword only).<br>\n",
    "<b>Sugestão de argumentos:</b> saldo, valor, extrato, limite, numero_saques, limite_saques. <b>Sugestão de retorno:</b> saldo e extrato.<br>\n",
    "\n",
    "## Extrato:\n",
    "Deve listar todos os depósitos e saques realizados na conta. <br>\n",
    "Ao fim da listagem, deve exibir o saque atual. <br>\n",
    "Os valores devem ser exibidos no formato R$ XXX.XX.<br>\n",
    "Deve receber os argumentos por posição e nome(positional only e keyword only).<br>\n",
    "<b>Argumentos posicionais:</b> saldo. <b>Argumentos nomeados:</b> extrato.<br>\n"
   ]
  },
  {
   "cell_type": "code",
   "execution_count": null,
   "id": "39179213-54aa-4ec9-8702-4d34431291f5",
   "metadata": {},
   "outputs": [
    {
     "name": "stdin",
     "output_type": "stream",
     "text": [
      "\n",
      "\n",
      "========= BEM-VINDO AO PYBANK ========\n",
      "......................................\n",
      "================ MENU ================\n",
      "[d]\tDepositar\n",
      "[s]\tSacar\n",
      "[e]\tExtrato\n",
      "[n]\tNovo usuário\n",
      "[c]\tNova conta\n",
      "[l]\tListar contas\n",
      "[q]\tSair\n",
      "\n",
      "Insira a opção desejada:  n\n",
      "Informe o CPF (somente números):  11122233344\n",
      "Informe o nome completo:  Nome Comp\n",
      "Informe a data de nascimento (dd-mm-aaaa):  01-01-2001\n",
      "Informe o endereço (logradouro, nro - bairro - cidade/sigla estado):  Rua Tal, 123 - BairroA - City/ST\n"
     ]
    },
    {
     "name": "stdout",
     "output_type": "stream",
     "text": [
      "=== Usuário criado com sucesso! ===\n"
     ]
    },
    {
     "name": "stdin",
     "output_type": "stream",
     "text": [
      "\n",
      "\n",
      "========= BEM-VINDO AO PYBANK ========\n",
      "......................................\n",
      "================ MENU ================\n",
      "[d]\tDepositar\n",
      "[s]\tSacar\n",
      "[e]\tExtrato\n",
      "[n]\tNovo usuário\n",
      "[c]\tNova conta\n",
      "[l]\tListar contas\n",
      "[q]\tSair\n",
      "\n",
      "Insira a opção desejada:  l\n",
      "\n",
      "\n",
      "========= BEM-VINDO AO PYBANK ========\n",
      "......................................\n",
      "================ MENU ================\n",
      "[d]\tDepositar\n",
      "[s]\tSacar\n",
      "[e]\tExtrato\n",
      "[n]\tNovo usuário\n",
      "[c]\tNova conta\n",
      "[l]\tListar contas\n",
      "[q]\tSair\n",
      "\n",
      "Insira a opção desejada:  c\n",
      "Informe o CPF do usuário:  11122233345\n"
     ]
    },
    {
     "name": "stdout",
     "output_type": "stream",
     "text": [
      "\n",
      "=!= Usuário não encontrado, fluxo de criação de conta encerrado! =!=\n"
     ]
    },
    {
     "name": "stdin",
     "output_type": "stream",
     "text": [
      "\n",
      "\n",
      "========= BEM-VINDO AO PYBANK ========\n",
      "......................................\n",
      "================ MENU ================\n",
      "[d]\tDepositar\n",
      "[s]\tSacar\n",
      "[e]\tExtrato\n",
      "[n]\tNovo usuário\n",
      "[c]\tNova conta\n",
      "[l]\tListar contas\n",
      "[q]\tSair\n",
      "\n",
      "Insira a opção desejada:  c\n",
      "Informe o CPF do usuário:  11122233344\n"
     ]
    },
    {
     "name": "stdout",
     "output_type": "stream",
     "text": [
      "\n",
      "=== Conta criada com sucesso! ===\n"
     ]
    },
    {
     "name": "stdin",
     "output_type": "stream",
     "text": [
      "\n",
      "\n",
      "========= BEM-VINDO AO PYBANK ========\n",
      "......................................\n",
      "================ MENU ================\n",
      "[d]\tDepositar\n",
      "[s]\tSacar\n",
      "[e]\tExtrato\n",
      "[n]\tNovo usuário\n",
      "[c]\tNova conta\n",
      "[l]\tListar contas\n",
      "[q]\tSair\n",
      "\n",
      "Insira a opção desejada:  l\n"
     ]
    },
    {
     "name": "stdout",
     "output_type": "stream",
     "text": [
      "====================================================================================================\n",
      "Agência:\t0001\n",
      "C/C:\t1\n",
      "Titular:\tNome Comp\n",
      "\n"
     ]
    },
    {
     "name": "stdin",
     "output_type": "stream",
     "text": [
      "\n",
      "\n",
      "========= BEM-VINDO AO PYBANK ========\n",
      "......................................\n",
      "================ MENU ================\n",
      "[d]\tDepositar\n",
      "[s]\tSacar\n",
      "[e]\tExtrato\n",
      "[n]\tNovo usuário\n",
      "[c]\tNova conta\n",
      "[l]\tListar contas\n",
      "[q]\tSair\n",
      "\n",
      "Insira a opção desejada:  d\n",
      "Informe o valor do depósito:  1000\n"
     ]
    },
    {
     "name": "stdout",
     "output_type": "stream",
     "text": [
      "\n",
      "=== Depósito realizado com sucesso! ===\n"
     ]
    },
    {
     "name": "stdin",
     "output_type": "stream",
     "text": [
      "\n",
      "\n",
      "========= BEM-VINDO AO PYBANK ========\n",
      "......................................\n",
      "================ MENU ================\n",
      "[d]\tDepositar\n",
      "[s]\tSacar\n",
      "[e]\tExtrato\n",
      "[n]\tNovo usuário\n",
      "[c]\tNova conta\n",
      "[l]\tListar contas\n",
      "[q]\tSair\n",
      "\n",
      "Insira a opção desejada:  s\n",
      "Informe o valor do saque:  300\n"
     ]
    },
    {
     "name": "stdout",
     "output_type": "stream",
     "text": [
      "\n",
      "=== Saque realizado com sucesso! ===\n"
     ]
    },
    {
     "name": "stdin",
     "output_type": "stream",
     "text": [
      "\n",
      "\n",
      "========= BEM-VINDO AO PYBANK ========\n",
      "......................................\n",
      "================ MENU ================\n",
      "[d]\tDepositar\n",
      "[s]\tSacar\n",
      "[e]\tExtrato\n",
      "[n]\tNovo usuário\n",
      "[c]\tNova conta\n",
      "[l]\tListar contas\n",
      "[q]\tSair\n",
      "\n",
      "Insira a opção desejada:  d\n",
      "Informe o valor do depósito:  269\n"
     ]
    },
    {
     "name": "stdout",
     "output_type": "stream",
     "text": [
      "\n",
      "=== Depósito realizado com sucesso! ===\n"
     ]
    },
    {
     "name": "stdin",
     "output_type": "stream",
     "text": [
      "\n",
      "\n",
      "========= BEM-VINDO AO PYBANK ========\n",
      "......................................\n",
      "================ MENU ================\n",
      "[d]\tDepositar\n",
      "[s]\tSacar\n",
      "[e]\tExtrato\n",
      "[n]\tNovo usuário\n",
      "[c]\tNova conta\n",
      "[l]\tListar contas\n",
      "[q]\tSair\n",
      "\n",
      "Insira a opção desejada:  s\n",
      "Informe o valor do saque:  234\n"
     ]
    },
    {
     "name": "stdout",
     "output_type": "stream",
     "text": [
      "\n",
      "=== Saque realizado com sucesso! ===\n"
     ]
    },
    {
     "name": "stdin",
     "output_type": "stream",
     "text": [
      "\n",
      "\n",
      "========= BEM-VINDO AO PYBANK ========\n",
      "......................................\n",
      "================ MENU ================\n",
      "[d]\tDepositar\n",
      "[s]\tSacar\n",
      "[e]\tExtrato\n",
      "[n]\tNovo usuário\n",
      "[c]\tNova conta\n",
      "[l]\tListar contas\n",
      "[q]\tSair\n",
      "\n",
      "Insira a opção desejada:  l\n"
     ]
    },
    {
     "name": "stdout",
     "output_type": "stream",
     "text": [
      "====================================================================================================\n",
      "Agência:\t0001\n",
      "C/C:\t1\n",
      "Titular:\tNome Comp\n",
      "\n"
     ]
    },
    {
     "name": "stdin",
     "output_type": "stream",
     "text": [
      "\n",
      "\n",
      "========= BEM-VINDO AO PYBANK ========\n",
      "......................................\n",
      "================ MENU ================\n",
      "[d]\tDepositar\n",
      "[s]\tSacar\n",
      "[e]\tExtrato\n",
      "[n]\tNovo usuário\n",
      "[c]\tNova conta\n",
      "[l]\tListar contas\n",
      "[q]\tSair\n",
      "\n",
      "Insira a opção desejada:  e\n"
     ]
    },
    {
     "name": "stdout",
     "output_type": "stream",
     "text": [
      "\n",
      "================ EXTRATO ================\n",
      "Depósito:\tR$ 1000.00\n",
      "Saque:\tR$ 300.00\n",
      "Depósito:\tR$ 269.00\n",
      "Saque:\tR$ 234.00\n",
      "\n",
      "\n",
      "Saldo:\tR$ 735.00\n",
      "==========================================\n"
     ]
    },
    {
     "name": "stdin",
     "output_type": "stream",
     "text": [
      "\n",
      "\n",
      "========= BEM-VINDO AO PYBANK ========\n",
      "......................................\n",
      "================ MENU ================\n",
      "[d]\tDepositar\n",
      "[s]\tSacar\n",
      "[e]\tExtrato\n",
      "[n]\tNovo usuário\n",
      "[c]\tNova conta\n",
      "[l]\tListar contas\n",
      "[q]\tSair\n",
      "\n",
      "Insira a opção desejada:  n\n",
      "Informe o CPF (somente números):  22233344455\n",
      "Informe o nome completo:  Fulano da Silva\n",
      "Informe a data de nascimento (dd-mm-aaaa):  01-01-2001\n",
      "Informe o endereço (logradouro, nro - bairro - cidade/sigla estado):  Rua Tal, 321 - Bro - City/ST\n"
     ]
    },
    {
     "name": "stdout",
     "output_type": "stream",
     "text": [
      "=== Usuário criado com sucesso! ===\n"
     ]
    },
    {
     "name": "stdin",
     "output_type": "stream",
     "text": [
      "\n",
      "\n",
      "========= BEM-VINDO AO PYBANK ========\n",
      "......................................\n",
      "================ MENU ================\n",
      "[d]\tDepositar\n",
      "[s]\tSacar\n",
      "[e]\tExtrato\n",
      "[n]\tNovo usuário\n",
      "[c]\tNova conta\n",
      "[l]\tListar contas\n",
      "[q]\tSair\n",
      "\n",
      "Insira a opção desejada:  c\n",
      "Informe o CPF do usuário:  22233344455\n"
     ]
    },
    {
     "name": "stdout",
     "output_type": "stream",
     "text": [
      "\n",
      "=== Conta criada com sucesso! ===\n"
     ]
    },
    {
     "name": "stdin",
     "output_type": "stream",
     "text": [
      "\n",
      "\n",
      "========= BEM-VINDO AO PYBANK ========\n",
      "......................................\n",
      "================ MENU ================\n",
      "[d]\tDepositar\n",
      "[s]\tSacar\n",
      "[e]\tExtrato\n",
      "[n]\tNovo usuário\n",
      "[c]\tNova conta\n",
      "[l]\tListar contas\n",
      "[q]\tSair\n",
      "\n",
      "Insira a opção desejada:  l\n"
     ]
    },
    {
     "name": "stdout",
     "output_type": "stream",
     "text": [
      "====================================================================================================\n",
      "Agência:\t0001\n",
      "C/C:\t1\n",
      "Titular:\tNome Comp\n",
      "\n",
      "====================================================================================================\n",
      "Agência:\t0001\n",
      "C/C:\t2\n",
      "Titular:\tFulano da Silva\n",
      "\n"
     ]
    },
    {
     "name": "stdin",
     "output_type": "stream",
     "text": [
      "\n",
      "\n",
      "========= BEM-VINDO AO PYBANK ========\n",
      "......................................\n",
      "================ MENU ================\n",
      "[d]\tDepositar\n",
      "[s]\tSacar\n",
      "[e]\tExtrato\n",
      "[n]\tNovo usuário\n",
      "[c]\tNova conta\n",
      "[l]\tListar contas\n",
      "[q]\tSair\n",
      "\n",
      "Insira a opção desejada:  d\n",
      "Informe o valor do depósito:  3000\n"
     ]
    },
    {
     "name": "stdout",
     "output_type": "stream",
     "text": [
      "\n",
      "=== Depósito realizado com sucesso! ===\n"
     ]
    },
    {
     "name": "stdin",
     "output_type": "stream",
     "text": [
      "\n",
      "\n",
      "========= BEM-VINDO AO PYBANK ========\n",
      "......................................\n",
      "================ MENU ================\n",
      "[d]\tDepositar\n",
      "[s]\tSacar\n",
      "[e]\tExtrato\n",
      "[n]\tNovo usuário\n",
      "[c]\tNova conta\n",
      "[l]\tListar contas\n",
      "[q]\tSair\n",
      "\n",
      "Insira a opção desejada:  e\n"
     ]
    },
    {
     "name": "stdout",
     "output_type": "stream",
     "text": [
      "\n",
      "================ EXTRATO ================\n",
      "Depósito:\tR$ 1000.00\n",
      "Saque:\tR$ 300.00\n",
      "Depósito:\tR$ 269.00\n",
      "Saque:\tR$ 234.00\n",
      "Depósito:\tR$ 3000.00\n",
      "\n",
      "\n",
      "Saldo:\tR$ 3735.00\n",
      "==========================================\n"
     ]
    },
    {
     "name": "stdin",
     "output_type": "stream",
     "text": [
      "\n",
      "\n",
      "========= BEM-VINDO AO PYBANK ========\n",
      "......................................\n",
      "================ MENU ================\n",
      "[d]\tDepositar\n",
      "[s]\tSacar\n",
      "[e]\tExtrato\n",
      "[n]\tNovo usuário\n",
      "[c]\tNova conta\n",
      "[l]\tListar contas\n",
      "[q]\tSair\n",
      "\n",
      "Insira a opção desejada:  l\n"
     ]
    },
    {
     "name": "stdout",
     "output_type": "stream",
     "text": [
      "====================================================================================================\n",
      "Agência:\t0001\n",
      "C/C:\t1\n",
      "Titular:\tNome Comp\n",
      "\n",
      "====================================================================================================\n",
      "Agência:\t0001\n",
      "C/C:\t2\n",
      "Titular:\tFulano da Silva\n",
      "\n"
     ]
    }
   ],
   "source": [
    "import textwrap\n",
    "\n",
    "\n",
    "def menu():\n",
    "    menu = \"\"\"\\n\n",
    "    ========= BEM-VINDO AO PYBANK ========\n",
    "    ......................................\n",
    "    ================ MENU ================\n",
    "    [d]\\tDepositar\n",
    "    [s]\\tSacar\n",
    "    [e]\\tExtrato\n",
    "    [n]\\tNovo usuário\n",
    "    [c]\\tNova conta\n",
    "    [l]\\tListar contas\n",
    "    [q]\\tSair\n",
    "    \n",
    "    Insira a opção desejada: \"\"\"\n",
    "    return input(textwrap.dedent(menu))\n",
    "\n",
    "def depositar(saldo, valor, extrato, /):\n",
    "    if valor > 0:\n",
    "        saldo += valor\n",
    "        extrato += f\"Depósito:\\tR$ {valor:.2f}\\n\"\n",
    "        print(\"\\n=== Depósito realizado com sucesso! ===\")\n",
    "    else:\n",
    "        print(\"\\n=!= Falha. Valor informado inválido. =!=\")\n",
    "\n",
    "    return saldo, extrato\n",
    "\n",
    "\n",
    "def sacar(*, saldo, valor, extrato, limite, numero_saques, limite_saques):\n",
    "    excedeu_saldo = valor > saldo\n",
    "    excedeu_limite = valor > limite\n",
    "    excedeu_saques = numero_saques >= limite_saques\n",
    "\n",
    "    if excedeu_saldo:\n",
    "        print(\"\\n=!= Falha. Você não tem saldo suficiente. =!=\")\n",
    "\n",
    "    elif excedeu_limite:\n",
    "        print(\"\\n=!= Falha. Valor do saque excede o limite. =!=\")\n",
    "\n",
    "    elif excedeu_saques:\n",
    "        print(\"\\n=!= Falha. Número máximo de saques excedido. =!=\")\n",
    "\n",
    "    elif valor > 0:\n",
    "        saldo -= valor\n",
    "        extrato += f\"Saque:\\tR$ {valor:.2f}\\n\"\n",
    "        numero_saques += 1\n",
    "        print(\"\\n=== Saque realizado com sucesso! ===\")\n",
    "\n",
    "    else:\n",
    "        print(\"\\n=!= Falha. Valor informado inválido. =!=\")\n",
    "\n",
    "    return saldo, extrato\n",
    "\n",
    "\n",
    "def exibir_extrato(saldo, /, *, extrato):\n",
    "    print(\"\\n================ EXTRATO ================\")\n",
    "    print(\"Nenhuma movimentação identificada.\" if not extrato else extrato)\n",
    "    print(f\"\\nSaldo:\\tR$ {saldo:.2f}\")\n",
    "    print(\"==========================================\")\n",
    "\n",
    "\n",
    "def criar_usuario(usuarios):\n",
    "    cpf = input(\"Informe o CPF (somente números): \")\n",
    "    usuario = filtrar_usuario(cpf, usuarios)\n",
    "\n",
    "    if usuario:\n",
    "        print(\"\\n=!= Já existe usuário com esse CPF. =!=\")\n",
    "        print(\"\\n=== Verifique o CPF e tente novamente. ===\")\n",
    "        return\n",
    "\n",
    "    nome = input(\"Informe o nome completo: \")\n",
    "    data_nascimento = input(\"Informe a data de nascimento (dd-mm-aaaa): \")\n",
    "    endereco = input(\"Informe o endereço (logradouro, nro - bairro - cidade/sigla estado): \")\n",
    "\n",
    "    usuarios.append({\"nome\": nome, \"data_nascimento\": data_nascimento, \"cpf\": cpf, \"endereco\": endereco})\n",
    "\n",
    "    print(\"=== Usuário criado com sucesso! ===\")\n",
    "\n",
    "\n",
    "def filtrar_usuario(cpf, usuarios):\n",
    "    usuarios_filtrados = [usuario for usuario in usuarios if usuario[\"cpf\"] == cpf]\n",
    "    return usuarios_filtrados[0] if usuarios_filtrados else None\n",
    "\n",
    "\n",
    "def criar_conta(agencia, numero_conta, usuarios):\n",
    "    cpf = input(\"Informe o CPF do usuário: \")\n",
    "    usuario = filtrar_usuario(cpf, usuarios)\n",
    "\n",
    "    if usuario:\n",
    "        print(\"\\n=== Conta criada com sucesso! ===\")\n",
    "        return {\"agencia\": agencia, \"numero_conta\": numero_conta, \"usuario\": usuario}\n",
    "\n",
    "    print(\"\\n=!= Usuário não encontrado, fluxo de criação de conta encerrado! =!=\")\n",
    "\n",
    "\n",
    "def listar_contas(contas):\n",
    "    for conta in contas:\n",
    "        linha = f\"\"\"\\\n",
    "            Agência:\\t{conta['agencia']}\n",
    "            C/C:\\t{conta['numero_conta']}\n",
    "            Titular:\\t{conta['usuario']['nome']}\n",
    "        \"\"\"\n",
    "        print(\"=\" * 100)\n",
    "        print(textwrap.dedent(linha))\n",
    "\n",
    "\n",
    "def main():\n",
    "    LIMITE_SAQUES = 3\n",
    "    AGENCIA = \"0001\"\n",
    "\n",
    "    saldo = 0\n",
    "    LIMITE = 500\n",
    "    extrato = \"\"\n",
    "    numero_saques = 0\n",
    "    usuarios = []\n",
    "    contas = []\n",
    "\n",
    "    while True:\n",
    "        opcao = menu()\n",
    "\n",
    "        if opcao == \"d\":\n",
    "            valor = float(input(\"Informe o valor do depósito: \"))\n",
    "\n",
    "            saldo, extrato = depositar(saldo, valor, extrato)\n",
    "\n",
    "        elif opcao == \"s\":\n",
    "            valor = float(input(\"Informe o valor do saque: \"))\n",
    "\n",
    "            saldo, extrato = sacar(\n",
    "                saldo=saldo,\n",
    "                valor=valor,\n",
    "                extrato=extrato,\n",
    "                limite=LIMITE,\n",
    "                numero_saques=numero_saques,\n",
    "                limite_saques=LIMITE_SAQUES,\n",
    "            )\n",
    "\n",
    "        elif opcao == \"e\":\n",
    "            exibir_extrato(saldo, extrato=extrato)\n",
    "\n",
    "        elif opcao == \"n\":\n",
    "            criar_usuario(usuarios)\n",
    "\n",
    "        elif opcao == \"c\":\n",
    "            numero_conta = len(contas) + 1\n",
    "            conta = criar_conta(AGENCIA, numero_conta, usuarios)\n",
    "\n",
    "            if conta:\n",
    "                contas.append(conta)\n",
    "\n",
    "        elif opcao == \"l\":\n",
    "            listar_contas(contas)\n",
    "\n",
    "        elif opcao == \"q\":\n",
    "            break\n",
    "\n",
    "        else:\n",
    "            print(\"=!= Operação inválida. =!=\")\n",
    "            print(\"=== Por favor, selecione a operação novamente. ===\")\n",
    "\n",
    "\n",
    "main()"
   ]
  }
 ],
 "metadata": {
  "kernelspec": {
   "display_name": "Python 3 (ipykernel)",
   "language": "python",
   "name": "python3"
  },
  "language_info": {
   "codemirror_mode": {
    "name": "ipython",
    "version": 3
   },
   "file_extension": ".py",
   "mimetype": "text/x-python",
   "name": "python",
   "nbconvert_exporter": "python",
   "pygments_lexer": "ipython3",
   "version": "3.11.2"
  }
 },
 "nbformat": 4,
 "nbformat_minor": 5
}
