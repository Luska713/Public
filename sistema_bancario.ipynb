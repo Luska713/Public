{
 "cells": [
  {
   "cell_type": "markdown",
   "id": "5d76ed25-c800-442c-a381-fe4676b81ee6",
   "metadata": {},
   "source": [
    "# Criando um sistema bancário\n",
    "\n",
    "<p><i><b>Desafio:</b> Criar um sistema bancário com as opções de depósito, saque e extrato.</i></p>\n",
    "\n",
    "## Depósito:\n",
    "Não deve ser possível inserir valores negativos para depósito. <br>\n",
    "Todos os depósitos devem ser armazenados em uma variável e exibidos na opção extrato. <br>\n",
    "\n",
    "## Saque:\n",
    "Deve permtir 3 saques por dia, com limite máximo de R$ 500,00 por saque. <br>\n",
    "Caso não haja saldo e conta, exibir mensagem informando saldo insuficiente. <br>\n",
    "Todos os saques devem ser armazenados em uma variável e exibidos na opção extrato. <br>\n",
    "\n",
    "## Extrato:\n",
    "Deve listar todos os depósitos e saques realizados na conta. <br>\n",
    "Ao fim da listagem, deve exibir o saque atual. <br>\n",
    "Os valores devem ser exibidos no formato R$ XXX.XX."
   ]
  },
  {
   "cell_type": "code",
   "execution_count": 19,
   "id": "39179213-54aa-4ec9-8702-4d34431291f5",
   "metadata": {},
   "outputs": [
    {
     "name": "stdin",
     "output_type": "stream",
     "text": [
      "\n",
      "\n",
      "[d] Depositar\n",
      "[s] Sacar\n",
      "[e] Extrato\n",
      "[q] Sair\n",
      "\n",
      " d\n",
      "Informe o valor a depositar: R$  3000\n"
     ]
    },
    {
     "name": "stdout",
     "output_type": "stream",
     "text": [
      "\n",
      "Depósito de R$ 3000.00 realizado com sucesso.\n",
      "Saldo atual de R$ 3000.00.\n"
     ]
    },
    {
     "name": "stdin",
     "output_type": "stream",
     "text": [
      "\n",
      "\n",
      "[d] Depositar\n",
      "[s] Sacar\n",
      "[e] Extrato\n",
      "[q] Sair\n",
      "\n",
      " s\n",
      "Informe o valor a sacar: R$  499\n"
     ]
    },
    {
     "name": "stdout",
     "output_type": "stream",
     "text": [
      "\n",
      "Saque de R$ 499.00 realizado com sucesso.\n",
      "Saldo atual de R$ 2501.00.\n"
     ]
    },
    {
     "name": "stdin",
     "output_type": "stream",
     "text": [
      "\n",
      "\n",
      "[d] Depositar\n",
      "[s] Sacar\n",
      "[e] Extrato\n",
      "[q] Sair\n",
      "\n",
      " s\n",
      "Informe o valor a sacar: R$  23\n"
     ]
    },
    {
     "name": "stdout",
     "output_type": "stream",
     "text": [
      "\n",
      "Saque de R$ 23.00 realizado com sucesso.\n",
      "Saldo atual de R$ 2478.00.\n"
     ]
    },
    {
     "name": "stdin",
     "output_type": "stream",
     "text": [
      "\n",
      "\n",
      "[d] Depositar\n",
      "[s] Sacar\n",
      "[e] Extrato\n",
      "[q] Sair\n",
      "\n",
      " s\n",
      "Informe o valor a sacar: R$  467\n"
     ]
    },
    {
     "name": "stdout",
     "output_type": "stream",
     "text": [
      "\n",
      "Saque de R$ 467.00 realizado com sucesso.\n",
      "Saldo atual de R$ 2011.00.\n"
     ]
    },
    {
     "name": "stdin",
     "output_type": "stream",
     "text": [
      "\n",
      "\n",
      "[d] Depositar\n",
      "[s] Sacar\n",
      "[e] Extrato\n",
      "[q] Sair\n",
      "\n",
      " s\n"
     ]
    },
    {
     "name": "stdout",
     "output_type": "stream",
     "text": [
      "\n",
      "Falha. A quantidade máxima de saques por dia é 3.\n"
     ]
    },
    {
     "name": "stdin",
     "output_type": "stream",
     "text": [
      "\n",
      "\n",
      "[d] Depositar\n",
      "[s] Sacar\n",
      "[e] Extrato\n",
      "[q] Sair\n",
      "\n",
      " e\n"
     ]
    },
    {
     "name": "stdout",
     "output_type": "stream",
     "text": [
      "\n",
      "============= EXTRATO =============\n",
      "Depósito: R$                3000.00\n",
      "Saque: R$                    499.00\n",
      "Saque: R$                     23.00\n",
      "Saque: R$                    467.00\n",
      "\n",
      "\n",
      "Saldo: R$                   2011.00\n",
      "===================================\n"
     ]
    },
    {
     "name": "stdin",
     "output_type": "stream",
     "text": [
      "\n",
      "\n",
      "[d] Depositar\n",
      "[s] Sacar\n",
      "[e] Extrato\n",
      "[q] Sair\n",
      "\n",
      " q\n"
     ]
    }
   ],
   "source": [
    "menu = '''\n",
    "\n",
    "[d] Depositar\n",
    "[s] Sacar\n",
    "[e] Extrato\n",
    "[q] Sair\n",
    "\n",
    "'''\n",
    "\n",
    "saldo = 0\n",
    "LIMITE = 500\n",
    "extrato = \"\"\n",
    "numero_saques = 0\n",
    "LIMITE_SAQUES = 3\n",
    "\n",
    "while True:\n",
    "\n",
    "    opcao = input(menu)\n",
    "\n",
    "    if opcao == \"d\":\n",
    "        valor = float(input(\"Informe o valor a depositar: R$ \"))\n",
    "\n",
    "        if valor > 0:\n",
    "            saldo += valor\n",
    "            extrato += f\"Depósito: R$ {valor:.2f}\\n\"\n",
    "            print(f\"\\nDepósito de R$ {valor:.2f} realizado com sucesso.\")\n",
    "            print(f\"Saldo atual de R$ {saldo:.2f}.\")\n",
    "\n",
    "        else:\n",
    "            print(\"\\nFalha. O valor informado é inválido.\")\n",
    "\n",
    "    elif opcao == \"s\":\n",
    "        excedeu_saques = numero_saques >= LIMITE_SAQUES\n",
    "\n",
    "        if excedeu_saques:\n",
    "            print(\"\\nFalha. A quantidade máxima de saques por dia é 3.\")\n",
    "\n",
    "        else:\n",
    "            valor = float(input(\"Informe o valor a sacar: R$ \"))\n",
    "\n",
    "            excedeu_saldo = valor > saldo\n",
    "\n",
    "            excedeu_limite = valor > LIMITE\n",
    "            \n",
    "            if excedeu_saldo:\n",
    "                print(\"\\nFalha. Saldo insuficiente.\")\n",
    "\n",
    "            elif excedeu_limite:\n",
    "                print(\"\\nFalha. O valor máximo do saque é R$ 500.00.\")\n",
    "            \n",
    "            elif valor > 0:\n",
    "                saldo -= valor\n",
    "                extrato += f\"Saque: R$ {valor:.2f}\\n\"\n",
    "                numero_saques += 1\n",
    "                print(f\"\\nSaque de R$ {valor:.2f} realizado com sucesso.\")\n",
    "                print(f\"Saldo atual de R$ {saldo:.2f}.\")\n",
    "                \n",
    "            else:\n",
    "                print(\"\\nFalha. O valor informado é inválido.\")\n",
    "\n",
    "    elif opcao == \"e\":\n",
    "        print(\"\\n============= EXTRATO =============\")\n",
    "        print(\"Não foram realizadas movimentações.\" if not extrato else extrato)\n",
    "        print(f\"\\nSaldo: R$ {saldo:.2f}\")\n",
    "        print(\"===================================\")\n",
    "\n",
    "    elif opcao == \"q\":\n",
    "        break\n",
    "\n",
    "    else:\n",
    "        print(\"\\nOperação inválida, selecione novamente a operação desejada.\")"
   ]
  }
 ],
 "metadata": {
  "kernelspec": {
   "display_name": "Python 3 (ipykernel)",
   "language": "python",
   "name": "python3"
  },
  "language_info": {
   "codemirror_mode": {
    "name": "ipython",
    "version": 3
   },
   "file_extension": ".py",
   "mimetype": "text/x-python",
   "name": "python",
   "nbconvert_exporter": "python",
   "pygments_lexer": "ipython3",
   "version": "3.11.2"
  }
 },
 "nbformat": 4,
 "nbformat_minor": 5
}
